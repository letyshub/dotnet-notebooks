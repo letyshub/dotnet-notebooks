{
 "cells": [
  {
   "cell_type": "markdown",
   "metadata": {
    "dotnet_interactive": {
     "language": "csharp"
    }
   },
   "source": [
    "# .NET Guards"
   ]
  },
  {
   "cell_type": "markdown",
   "metadata": {},
   "source": [
    "## Co to jest guard\n",
    "\n",
    "Jeśli nie spotkałeś się jeszcze z guard lub gardą :-D to już tłumaczę czy jest. Jak sama nazwa wskazuje jest to strażnik. No i moim zdaniem nie ma co doszukiwać się jakiś głębszych funkcji. A więc guard sprawdza coś zanim gdzieś nas wpuści :-D To sprawdzanie to najczęściej jakaś walidacja modelu, tego czy jesteś zalogowany, czy masz wystarczające role itp. itd. Lepszy opis znajdziesz np. [tutaj](https://en.wikipedia.org/wiki/Guard_(computer_science))"
   ]
  },
  {
   "cell_type": "markdown",
   "metadata": {},
   "source": [
    "## Biblioteki\n",
    "\n",
    "* [Fluent validation](https://fluentvalidation.net/)\n",
    "* [Guard](https://github.com/safakgur/guard)"
   ]
  },
  {
   "cell_type": "markdown",
   "metadata": {},
   "source": [
    "## Guard"
   ]
  },
  {
   "cell_type": "code",
   "execution_count": null,
   "metadata": {
    "dotnet_interactive": {
     "language": "csharp"
    }
   },
   "outputs": [
    {
     "data": {
      "text/html": [
       "<div><div></div><div></div><div><strong>Installed Packages</strong><ul><li><span>Dawn.Guard, 1.12.0</span></li></ul></div></div>"
      ]
     },
     "metadata": {},
     "output_type": "display_data"
    }
   ],
   "source": [
    "#r \"nuget: Dawn.Guard, 1.12.0\"\n",
    "\n",
    "using Dawn;\n",
    "\n",
    "public record Car\n",
    "{\n",
    "    public string Model { get; set; }\n",
    "    public string Brand { get; set; }\n",
    "    public int Wheels { get; set; }\n",
    "}\n",
    "\n",
    "public record Truck : Car\n",
    "{\n",
    "    public double Tonnage { get; set; }\n",
    "}\n",
    "\n",
    "public static void AddCar(Car car)\n",
    "{\n",
    "    Guard.Argument(car.Model, nameof(car.Model)).NotNull().NotEmpty().MaxLength(50);\n",
    "    Guard.Argument(car.Wheels, nameof(car.Model)).Equal(4);\n",
    "}\n",
    "\n",
    "var car = new Car { Model = \"Q5\", Brand = \"Audi\", Wheels = 4 };\n",
    "AddCar(car);\n",
    "var truck = new Truck { Model = \"Q5\", Brand = \"Audi\", Wheels = 8 };\n",
    "AddCar(truck);"
   ]
  },
  {
   "cell_type": "code",
   "execution_count": null,
   "metadata": {
    "dotnet_interactive": {
     "language": "csharp"
    }
   },
   "outputs": [
    {
     "ename": "Error",
     "evalue": "System.ArgumentException: code must consist of 3 characters. (Parameter 'code')\r\n   at Dawn.Guard.Length(ArgumentInfo`1& argument, Int32 length, Func`3 message)\r\n   at Submission#26.Currency..ctor(String code, String name)\r\n   at Submission#26.<<Initialize>>d__0.MoveNext()\r\n--- End of stack trace from previous location ---\r\n   at Microsoft.CodeAnalysis.Scripting.ScriptExecutionState.RunSubmissionsAsync[TResult](ImmutableArray`1 precedingExecutors, Func`2 currentExecutor, StrongBox`1 exceptionHolderOpt, Func`2 catchExceptionOpt, CancellationToken cancellationToken)",
     "output_type": "error",
     "traceback": [
      "System.ArgumentException: code must consist of 3 characters. (Parameter 'code')\r\n",
      "   at Dawn.Guard.Length(ArgumentInfo`1& argument, Int32 length, Func`3 message)\r\n",
      "   at Submission#26.Currency..ctor(String code, String name)\r\n",
      "   at Submission#26.<<Initialize>>d__0.MoveNext()\r\n",
      "--- End of stack trace from previous location ---\r\n",
      "   at Microsoft.CodeAnalysis.Scripting.ScriptExecutionState.RunSubmissionsAsync[TResult](ImmutableArray`1 precedingExecutors, Func`2 currentExecutor, StrongBox`1 exceptionHolderOpt, Func`2 catchExceptionOpt, CancellationToken cancellationToken)"
     ]
    }
   ],
   "source": [
    "using Dawn;\n",
    "\n",
    "public class Currency\n",
    "{\n",
    "    public string Code { get; set; }\n",
    "    public string Name { get; set; }\n",
    "\n",
    "    public Currency(string code, string name)\n",
    "    {\n",
    "        this.Code = Guard.Argument(code, nameof(code)).NotNull().NotEmpty().Length(3);\n",
    "        this.Name = Guard.Argument(name, nameof(name)).NotNull().NotEmpty().LengthInRange(1, 50);\n",
    "    }\n",
    "}\n",
    "\n",
    "var pln = new Currency(\"PLN\", \"Złoty\");\n",
    "var zl = new Currency(\"ZL\", \"Złoty\");"
   ]
  }
 ],
 "metadata": {
  "kernelspec": {
   "display_name": ".NET (C#)",
   "language": "C#",
   "name": ".net-csharp"
  },
  "language_info": {
   "name": "C#"
  }
 },
 "nbformat": 4,
 "nbformat_minor": 2
}
